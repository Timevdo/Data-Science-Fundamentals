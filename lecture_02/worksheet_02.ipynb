{
 "cells": [
  {
   "attachments": {},
   "cell_type": "markdown",
   "metadata": {},
   "source": [
    "# Worksheet 02\n",
    "\n",
    "Name: Timothy Evdokimov\n",
    "UID: U98635342\n",
    "\n",
    "### Topics\n",
    "\n",
    "- Effective Programming\n",
    "\n",
    "### Effective Programming\n",
    "\n",
    "a) What is a drawback of the top down approach?"
   ]
  },
  {
   "attachments": {},
   "cell_type": "markdown",
   "metadata": {},
   "source": [
    "Difficult to verify peicemeal / unit test, especially for languages that are not statically typed."
   ]
  },
  {
   "attachments": {},
   "cell_type": "markdown",
   "metadata": {},
   "source": [
    "b) What is a drawback of the bottom up approach?"
   ]
  },
  {
   "attachments": {},
   "cell_type": "markdown",
   "metadata": {},
   "source": [
    "Great risk of writing code that ends up being unneeded."
   ]
  },
  {
   "attachments": {},
   "cell_type": "markdown",
   "metadata": {},
   "source": [
    "c) What are 3 things you can do to have a better debugging experience?"
   ]
  },
  {
   "attachments": {},
   "cell_type": "markdown",
   "metadata": {},
   "source": [
    "1. Re-read your code\n",
    "2. Sanity check everything\n",
    "3. Take breaks"
   ]
  },
  {
   "attachments": {},
   "cell_type": "markdown",
   "metadata": {},
   "source": [
    "d) Follow along with the live coding. You can write your code here:"
   ]
  },
  {
   "cell_type": "code",
   "execution_count": 16,
   "metadata": {},
   "outputs": [
    {
     "name": "stdout",
     "output_type": "stream",
     "text": [
      "Q . . . . . . . \n",
      ". . . . Q . . . \n",
      ". . . . . . . Q \n",
      ". . . . . Q . . \n",
      ". . Q . . . . . \n",
      ". . . . . . Q . \n",
      ". Q . . . . . . \n",
      ". . . Q . . . . \n",
      "\n"
     ]
    }
   ],
   "source": [
    "import numpy as np\n",
    "\n",
    "class ChessBoard:\n",
    "    \"\"\"\n",
    "    Class representing chessboard for N-Queens.\n",
    "    This is a very dumb chessboard where each square \n",
    "    is either a queen (1) or empty (0).\n",
    "    \"\"\"\n",
    "\n",
    "    def __init__(self):\n",
    "        self.board = np.zeros((8,8))\n",
    "    \n",
    "    def __repr__(self) -> str:\n",
    "        out = \"\"\n",
    "        for r in self.board:\n",
    "            for c in r:\n",
    "                if c == 0:\n",
    "                    out += \". \"\n",
    "                else:\n",
    "                    out += \"Q \"\n",
    "            out += '\\n'\n",
    "        return out\n",
    "    \n",
    "    def get_queen_col(self, r):\n",
    "        return -1 if 1 not in self.board[r] else list(self.board[r]).index(1)\n",
    "    \n",
    "    def set_queen_col(self, r, c):\n",
    "        self.board[r] = [1 if i == c else 0 for i in range(8)]\n",
    "\n",
    "    def is_legal_diagonal(self, r, c):\n",
    "        def is_on_board(r, c):\n",
    "            return r >= 0 and r < 8 and c >= 0 and c < 8\n",
    "        \n",
    "        for i in range(len(self.board)):\n",
    "            if is_on_board(r - i , c - i) and self.board[r - i ][c - i] == 1:\n",
    "                return False\n",
    "            if is_on_board(r - i , c + i) and self.board[r - i ][c + i] == 1:\n",
    "                return False\n",
    "            if is_on_board(r + i , c - i) and self.board[r + i ][c - i] == 1:\n",
    "                return False\n",
    "            if is_on_board(r + i , c + i) and self.board[r + i ][c + i] == 1:\n",
    "                return False\n",
    "        return True\n",
    "    \n",
    "    def is_legal(self, r, c):\n",
    "        \"\"\"\n",
    "        Return true if putting a queen at r, c is legal.\n",
    "        Legal iff no other queens in same row, col, or diagonal\n",
    "        \"\"\"\n",
    "        legal_row = not 1 in self.board[r]\n",
    "        legal_col = not 1 in self.board[:,c]\n",
    "        legal_diag = self.is_legal_diagonal(r, c)\n",
    "\n",
    "        return legal_row and legal_col and legal_diag\n",
    "\n",
    "    def solve(self):\n",
    "        row = 0\n",
    "        while True:\n",
    "            if row < 0 or row > 7:\n",
    "                break\n",
    "                \n",
    "            col = self.get_queen_col(row) + 1\n",
    "            self.set_queen_col(row, -1)\n",
    "            \n",
    "            while col < 8 and not self.is_legal(row, col):\n",
    "                col += 1\n",
    "\n",
    "            if col >= 8:\n",
    "                self.set_queen_col(row, -1)\n",
    "                row -= 1\n",
    "            else:\n",
    "                self.set_queen_col(row, col)\n",
    "                row += 1\n",
    "        print(self)\n",
    "                \n",
    "\n",
    "b = ChessBoard()\n",
    "b.solve()"
   ]
  }
 ],
 "metadata": {
  "kernelspec": {
   "display_name": "Python 3",
   "language": "python",
   "name": "python3"
  },
  "language_info": {
   "codemirror_mode": {
    "name": "ipython",
    "version": 3
   },
   "file_extension": ".py",
   "mimetype": "text/x-python",
   "name": "python",
   "nbconvert_exporter": "python",
   "pygments_lexer": "ipython3",
   "version": "3.10.6"
  },
  "orig_nbformat": 4,
  "vscode": {
   "interpreter": {
    "hash": "76ca05dc3ea24b2e3b98cdb7774adfbb40773424bf5109b477fd793f623715af"
   }
  }
 },
 "nbformat": 4,
 "nbformat_minor": 2
}
