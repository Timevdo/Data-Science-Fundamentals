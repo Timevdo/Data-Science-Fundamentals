{
 "cells": [
  {
   "attachments": {},
   "cell_type": "markdown",
   "metadata": {},
   "source": [
    "# Worksheet 08\n",
    "\n",
    "Name:  \n",
    "UID: \n",
    "\n",
    "### Topics\n",
    "\n",
    "- Soft Clustering\n",
    "- Clustering Aggregation\n",
    "\n",
    "### Probability Review\n",
    "\n",
    "Read through [the following](https://medium.com/@gallettilance/overview-of-probability-3272b72c82c8)\n",
    "\n",
    "### Soft Clustering\n",
    "\n",
    "We generate 10 data points that come from a normal distribution with mean 5 and variance 1."
   ]
  },
  {
   "cell_type": "code",
   "execution_count": 40,
   "metadata": {},
   "outputs": [
    {
     "name": "stdout",
     "output_type": "stream",
     "text": [
      "[5.637922007726626, 5.584564731905413, 5.2785517973546465, 4.425963711200415, 5.061161448530095, 5.59325556502887, 5.194120355754815, 5.5533498484366755, 4.685676105796061, 3.6278612568744952]\n"
     ]
    }
   ],
   "source": [
    "import random\n",
    "import numpy as np\n",
    "from sklearn.cluster import KMeans\n",
    "\n",
    "mean = 5\n",
    "stdev = 1\n",
    "\n",
    "s1 = np.random.normal(mean, stdev, 10).tolist()\n",
    "print(s1)"
   ]
  },
  {
   "attachments": {},
   "cell_type": "markdown",
   "metadata": {},
   "source": [
    "a) Generate 10 more data points, this time coming from a normal distribution with mean 8 and variance 1."
   ]
  },
  {
   "cell_type": "code",
   "execution_count": 41,
   "metadata": {},
   "outputs": [
    {
     "name": "stdout",
     "output_type": "stream",
     "text": [
      "[6.807890528475329, 7.131392774068784, 9.67836238879045, 6.343646919405394, 8.256137837318795, 7.242229755335708, 8.075698485396202, 7.892125034391276, 9.09558688350922, 6.742296826428417]\n"
     ]
    }
   ],
   "source": [
    "s2 = np.random.normal(8, 1, 10).tolist()\n",
    "print(s2)"
   ]
  },
  {
   "attachments": {},
   "cell_type": "markdown",
   "metadata": {},
   "source": [
    "b) Flip a fair coin 10 times. If the coin lands on H, then pick the last data point of `c1` and remove it from `c1`, if T then pick the last data point from `c2` and remove it from `c2`. Add these 10 points to a list called `data`."
   ]
  },
  {
   "cell_type": "code",
   "execution_count": 42,
   "metadata": {},
   "outputs": [
    {
     "name": "stdout",
     "output_type": "stream",
     "text": [
      "[6.742296826428417, 9.09558688350922, 7.892125034391276, 8.075698485396202, 3.6278612568744952, 7.242229755335708, 8.256137837318795, 4.685676105796061, 5.5533498484366755, 6.343646919405394]\n"
     ]
    }
   ],
   "source": [
    "data = []\n",
    "for i in range(10):\n",
    "    # flip coin\n",
    "    coin_output = random.choice([0, 1])\n",
    "    if coin_output == 0:\n",
    "        p1 = s1.pop()\n",
    "        data.append(p1)\n",
    "    else:\n",
    "        p2 = s2.pop()\n",
    "        data.append(p2)\n",
    "print(data)"
   ]
  },
  {
   "attachments": {},
   "cell_type": "markdown",
   "metadata": {},
   "source": [
    "c) This `data` is a Gaussian Mixture Distribution with 2 mixture components. Over the next few questions we will walk through the GMM algorithm to see if we can uncover the parameters we used to generate this data. First, please list all these parameters of the GMM that created `data` and the values we know they have."
   ]
  },
  {
   "attachments": {},
   "cell_type": "markdown",
   "metadata": {},
   "source": [
    "We know the mean and variance of both datasets, that is $\\mu_1 = 5, \\mu_2 = 8, \\sigma_1 = \\sigma_2 = 1$. We also know that N = 10 for both datasets"
   ]
  },
  {
   "attachments": {},
   "cell_type": "markdown",
   "metadata": {},
   "source": [
    "d) Let's assume there are two mixture components (note: we could plot the data and make the observation that there are two clusters). The EM algorithm asks us to start with a random `mean_j`, `variance_j`, `P(S_j)` for each component j. One method we could use to find sensible values for these is to apply K means with k=2 here.\n",
    "\n",
    "1. the centroids would be the estimates of the `mean_j`\n",
    "2. the intra-cluster variance could be the estimate of `variance_j`\n",
    "3. the proportion of points in each cluster could be the estimate of `P(S_j)`\n",
    "\n",
    "Go through this process and list the parameter estimates it gives. Are they close or far from the true values?"
   ]
  },
  {
   "cell_type": "code",
   "execution_count": 43,
   "metadata": {},
   "outputs": [
    {
     "name": "stdout",
     "output_type": "stream",
     "text": [
      "[6.742296826428417, 9.09558688350922, 7.892125034391276, 8.075698485396202, 7.242229755335708, 8.256137837318795, 6.343646919405394]\n",
      "[3.6278612568744952, 4.685676105796061, 5.5533498484366755]\n",
      "P(S_1) = 0.7,  P(S_2) = 0.3\n",
      "mean_1 = 7.66396024882643,  mean_2 = 4.622295737035743\n",
      "var_1 = 0.7703377176349212,  var_2 = 0.6199262549447816\n"
     ]
    },
    {
     "name": "stderr",
     "output_type": "stream",
     "text": [
      "/home/timevdo/.local/lib/python3.10/site-packages/sklearn/cluster/_kmeans.py:1416: FutureWarning: The default value of `n_init` will change from 10 to 'auto' in 1.4. Set the value of `n_init` explicitly to suppress the warning\n",
      "  super()._check_params_vs_input(X, default_n_init=10)\n"
     ]
    }
   ],
   "source": [
    "kmeans = KMeans(2, init='k-means++').fit(X=np.array(data).reshape(-1, 1))\n",
    "\n",
    "s1 = [x[0] for x in filter(lambda x: x[1] == 0, zip(data, kmeans.labels_))]\n",
    "print(s1)\n",
    "s2 = [x[0] for x in filter(lambda x: x[1] == 1, zip(data, kmeans.labels_))]\n",
    "print(s2)\n",
    "\n",
    "prob_s = [ len(s1) / (len(s1) + len(s2)) ,  len(s2) / (len(s1) + len(s2)) ]\n",
    "mean = [ sum(s1)/len(s1) , sum(s2)/len(s2) ]\n",
    "var = [ sum(map(lambda x : (x - mean[0])**2, s1)) / len(s1) , sum(map(lambda x : (x - mean[1])**2, s2)) / len(s2) ]\n",
    "\n",
    "print(\"P(S_1) = \" + str(prob_s[0]) + \",  P(S_2) = \" + str(prob_s[1]))\n",
    "print(\"mean_1 = \" + str(mean[0]) + \",  mean_2 = \" + str(mean[1]))\n",
    "print(\"var_1 = \" + str(var[0]) + \",  var_2 = \" + str(var[1]))"
   ]
  },
  {
   "attachments": {},
   "cell_type": "markdown",
   "metadata": {},
   "source": [
    "They are generally, very wrong. The standard distributions are off by anywhere from 25-50%, the means are actually kinda close, and the probabilities are also pretty wrong"
   ]
  },
  {
   "attachments": {},
   "cell_type": "markdown",
   "metadata": {},
   "source": [
    "e) For each data point, compute `P(S_j | X_i)`. Comment on which cluster you think each point belongs to based on the estimated probabilities. How does that compare to the truth?"
   ]
  },
  {
   "cell_type": "code",
   "execution_count": 44,
   "metadata": {},
   "outputs": [
    {
     "name": "stdout",
     "output_type": "stream",
     "text": [
      "point =  6.742296826428417\n",
      "probability of observing that point if it came from cluster 0 =  0.2531564810544354\n",
      "probability of observing that point if it came from cluster 1 =  0.0018581489345639596\n",
      "point =  9.09558688350922\n",
      "probability of observing that point if it came from cluster 0 =  0.09209704851477758\n",
      "probability of observing that point if it came from cluster 1 =  3.1773103166020893e-12\n",
      "point =  7.892125034391276\n",
      "probability of observing that point if it came from cluster 0 =  0.49565461674663436\n",
      "probability of observing that point if it came from cluster 1 =  5.852659958082432e-07\n",
      "point =  8.075698485396202\n",
      "probability of observing that point if it came from cluster 0 =  0.44894614374127023\n",
      "probability of observing that point if it came from cluster 1 =  1.1748568373913461e-07\n",
      "point =  3.6278612568744952\n",
      "probability of observing that point if it came from cluster 0 =  5.666007059546412e-07\n",
      "probability of observing that point if it came from cluster 1 =  0.1777494922755899\n",
      "point =  7.242229755335708\n",
      "probability of observing that point if it came from cluster 0 =  0.4458068499256095\n",
      "probability of observing that point if it came from cluster 1 =  8.51429923302297e-05\n",
      "point =  8.256137837318795\n",
      "probability of observing that point if it came from cluster 0 =  0.3853970963558201\n",
      "probability of observing that point if it came from cluster 1 =  2.2254093871628457e-08\n",
      "point =  4.685676105796061\n",
      "probability of observing that point if it came from cluster 0 =  0.0002940426106880701\n",
      "probability of observing that point if it came from cluster 1 =  0.6401772785090964\n",
      "point =  5.5533498484366755\n",
      "probability of observing that point if it came from cluster 0 =  0.01213813136110998\n",
      "probability of observing that point if it came from cluster 1 =  0.208335863238563\n",
      "point =  6.343646919405394\n",
      "probability of observing that point if it came from cluster 0 =  0.11921711050109778\n",
      "probability of observing that point if it came from cluster 1 =  0.01362534030886026\n",
      "6.742296826428417\n",
      "Probability of coming from S_1 = 0.996864183236273\n",
      "Probability of coming from S_2 = 0.00313581676372695\n",
      "\n",
      "9.09558688350922\n",
      "Probability of coming from S_1 = 0.9999999999852144\n",
      "Probability of coming from S_2 = 1.4785538118110998e-11\n",
      "\n",
      "7.892125034391276\n",
      "Probability of coming from S_1 = 0.9999994939456861\n",
      "Probability of coming from S_2 = 5.060543138515749e-07\n",
      "\n",
      "8.075698485396202\n",
      "Probability of coming from S_1 = 0.999999887846232\n",
      "Probability of coming from S_2 = 1.1215376804469065e-07\n",
      "\n",
      "3.6278612568744952\n",
      "Probability of coming from S_1 = 7.437762345978838e-06\n",
      "Probability of coming from S_2 = 0.999992562237654\n",
      "\n",
      "7.242229755335708\n",
      "Probability of coming from S_1 = 0.9999181554357773\n",
      "Probability of coming from S_2 = 8.184456422263098e-05\n",
      "\n",
      "8.256137837318795\n",
      "Probability of coming from S_1 = 0.999999975252879\n",
      "Probability of coming from S_2 = 2.474712097284735e-08\n",
      "\n",
      "4.685676105796061\n",
      "Probability of coming from S_1 = 0.001070586100817031\n",
      "Probability of coming from S_2 = 0.9989294138991829\n",
      "\n",
      "5.5533498484366755\n",
      "Probability of coming from S_1 = 0.11967601430973866\n",
      "Probability of coming from S_2 = 0.8803239856902614\n",
      "\n",
      "6.343646919405394\n",
      "Probability of coming from S_1 = 0.9533056690625327\n",
      "Probability of coming from S_2 = 0.04669433093746742\n",
      "\n"
     ]
    }
   ],
   "source": [
    "from scipy.stats import norm\n",
    "\n",
    "prob_s0_x = [] # P(S_0 | X_i)\n",
    "prob_s1_x = [] # P(S_1 | X_i)\n",
    "prob_x = [] # P(X_i)\n",
    "\n",
    "k = 2\n",
    "\n",
    "for p in data:\n",
    "    print(\"point = \", p)\n",
    "    pdf_i = []\n",
    "\n",
    "    for j in range(k):\n",
    "        # P(X_i | S_j)\n",
    "        pdf_i.append(norm.pdf(p, mean[j], var[j]))\n",
    "        print(\"probability of observing that point if it came from cluster \" + str(j) + \" = \", pdf_i[j])\n",
    "        # P(S_j) already computed\n",
    "        prob_s[j]\n",
    "\n",
    "    # P(X_i) = P(S_0)P(X_i | S_0) + P(S_1)P(X_i | S_1)\n",
    "    prob_x = prob_s[0] * pdf_i[0] + prob_s[1] * pdf_i[1]\n",
    "\n",
    "    # P(S_j | X_i) = P(X_i | S_j)P(S_j) / P(X_i)\n",
    "    prob_s0_x.append( pdf_i[0] * prob_s[0] / prob_x )\n",
    "    prob_s1_x.append( pdf_i[1] * prob_s[1] / prob_x )\n",
    "\n",
    "probs = zip(data, prob_s0_x, prob_s1_x)\n",
    "for p in probs:\n",
    "    print(p[0])\n",
    "    print(\"Probability of coming from S_1 = \" + str(p[1]))\n",
    "    print(\"Probability of coming from S_2 = \" + str(p[2]))\n",
    "    print()\n"
   ]
  },
  {
   "attachments": {},
   "cell_type": "markdown",
   "metadata": {},
   "source": [
    "f) Having computed `P(S_j | X_i)`, update the estimates of `mean_j`, `var_j`, and `P(S_j)`. How different are these values from the original ones you got from K means? briefly comment."
   ]
  },
  {
   "cell_type": "code",
   "execution_count": 45,
   "metadata": {},
   "outputs": [
    {
     "name": "stdout",
     "output_type": "stream",
     "text": [
      "P(S_1) = 0.7070841402937497,  P(S_2) = 0.29291585970625034\n",
      "mean_1 = 7.636915049599311,  mean_2 = 4.614019139497136\n",
      "var_1 = 0.7710691604361559,  var_2 = 0.6199947570115977\n"
     ]
    }
   ],
   "source": [
    "prob_s = [sum(prob_s0_x)/ len(prob_s0_x), sum(prob_s1_x)/ len(prob_s1_x) ]\n",
    "mean = [sum([x[0] * x[1] for x in zip(prob_s0_x, data)]) / sum(prob_s0_x), sum([x[0] * x[1] for x in zip(prob_s1_x, data)]) / sum(prob_s1_x) ]\n",
    "var = [ sum(map(lambda x : (x - mean[0])**2, s1)) / len(s1) , sum(map(lambda x : (x - mean[1])**2, s2)) / len(s2) ]\n",
    "\n",
    "print(\"P(S_1) = \" + str(prob_s[0]) + \",  P(S_2) = \" + str(prob_s[1]))\n",
    "print(\"mean_1 = \" + str(mean[0]) + \",  mean_2 = \" + str(mean[1]))\n",
    "print(\"var_1 = \" + str(var[0]) + \",  var_2 = \" + str(var[1]))"
   ]
  },
  {
   "attachments": {},
   "cell_type": "markdown",
   "metadata": {},
   "source": [
    "Probabilities are okay-ish, means are very close, variances much smaller"
   ]
  },
  {
   "attachments": {},
   "cell_type": "markdown",
   "metadata": {},
   "source": [
    "g) Update `P(S_j | X_i)`. Comment on any differences or lack thereof you observe."
   ]
  },
  {
   "cell_type": "code",
   "execution_count": 48,
   "metadata": {},
   "outputs": [
    {
     "name": "stdout",
     "output_type": "stream",
     "text": [
      "P(S_1) = 0.7111275827252277,  P(S_2) = 0.2888724172747722\n",
      "mean_1 = 7.62621608650294,  mean_2 = 4.598044690056813\n",
      "var_1 = 0.7717623394244233,  var_2 = 0.6205143682243559\n"
     ]
    }
   ],
   "source": [
    "for _ in range(100):\n",
    "    prob_s0_x = [] # P(S_0 | X_i)\n",
    "    prob_s1_x = [] # P(S_1 | X_i)\n",
    "    prob_x = [] # P(X_i)\n",
    "\n",
    "    k = 2\n",
    "\n",
    "    for p in data:\n",
    "        pdf_i = []\n",
    "\n",
    "        for j in range(k):\n",
    "            # P(X_i | S_j)\n",
    "            pdf_i.append(norm.pdf(p, mean[j], var[j]))\n",
    "            # P(S_j) already computed\n",
    "            prob_s[j]\n",
    "\n",
    "        # P(X_i) = P(S_0)P(X_i | S_0) + P(S_1)P(X_i | S_1)\n",
    "        prob_x = prob_s[0] * pdf_i[0] + prob_s[1] * pdf_i[1]\n",
    "\n",
    "        # P(S_j | X_i) = P(X_i | S_j)P(S_j) / P(X_i)\n",
    "        prob_s0_x.append( pdf_i[0] * prob_s[0] / prob_x )\n",
    "        prob_s1_x.append( pdf_i[1] * prob_s[1] / prob_x )\n",
    "    \n",
    "    prob_s = [sum(prob_s0_x)/ len(prob_s0_x), sum(prob_s1_x)/ len(prob_s1_x) ]\n",
    "    mean = [sum([x[0] * x[1] for x in zip(prob_s0_x, data)]) / sum(prob_s0_x), sum([x[0] * x[1] for x in zip(prob_s1_x, data)]) / sum(prob_s1_x) ]\n",
    "    var = [ sum(map(lambda x : (x - mean[0])**2, s1)) / len(s1) , sum(map(lambda x : (x - mean[1])**2, s2)) / len(s2) ]\n",
    "\n",
    "print(\"P(S_1) = \" + str(prob_s[0]) + \",  P(S_2) = \" + str(prob_s[1]))\n",
    "print(\"mean_1 = \" + str(mean[0]) + \",  mean_2 = \" + str(mean[1]))\n",
    "print(\"var_1 = \" + str(var[0]) + \",  var_2 = \" + str(var[1]))"
   ]
  },
  {
   "attachments": {},
   "cell_type": "markdown",
   "metadata": {},
   "source": [
    "They converge!"
   ]
  },
  {
   "attachments": {},
   "cell_type": "markdown",
   "metadata": {},
   "source": [
    "h) Use `P(S_j | X_i)` to create a hard assignment - label each point as belonging to a specific cluster (0 or 1)"
   ]
  },
  {
   "cell_type": "code",
   "execution_count": 50,
   "metadata": {},
   "outputs": [
    {
     "name": "stdout",
     "output_type": "stream",
     "text": [
      "Point  6.742296826428417  probably in S0 with probability  0.9975210890599466\n",
      "Point  9.09558688350922  probably in S0 with probability  0.9999999999878983\n",
      "Point  7.892125034391276  probably in S0 with probability  0.9999995928774854\n",
      "Point  8.075698485396202  probably in S0 with probability  0.9999999095235901\n",
      "Point  3.6278612568744952  probably in S1 0.9999900245469541\n",
      "Point  7.242229755335708  probably in S0 with probability  0.9999348148889715\n",
      "Point  8.256137837318795  probably in S0 with probability  0.9999999799829079\n",
      "Point  4.685676105796061  probably in S1 0.9985945039523811\n",
      "Point  5.5533498484366755  probably in S1 0.8505812363177888\n",
      "Point  6.343646919405394  probably in S0 with probability  0.9629862057486024\n"
     ]
    }
   ],
   "source": [
    "for i, point in enumerate(data):\n",
    "    if prob_s0_x[i] > 0.5:\n",
    "        print(\"Point \", point, \" probably in S0 with probability \", prob_s0_x[i])\n",
    "    else:\n",
    "        print(\"Point \", point, \" probably in S1\", prob_s1_x[i])"
   ]
  }
 ],
 "metadata": {
  "kernelspec": {
   "display_name": "Python 3",
   "language": "python",
   "name": "python3"
  },
  "language_info": {
   "codemirror_mode": {
    "name": "ipython",
    "version": 3
   },
   "file_extension": ".py",
   "mimetype": "text/x-python",
   "name": "python",
   "nbconvert_exporter": "python",
   "pygments_lexer": "ipython3",
   "version": "3.10.6"
  },
  "orig_nbformat": 4,
  "vscode": {
   "interpreter": {
    "hash": "e7370f93d1d0cde622a1f8e1c04877d8463912d04d973331ad4851f04de6915a"
   }
  }
 },
 "nbformat": 4,
 "nbformat_minor": 2
}
