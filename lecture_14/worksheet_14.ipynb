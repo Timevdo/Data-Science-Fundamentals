{
 "cells": [
  {
   "attachments": {},
   "cell_type": "markdown",
   "metadata": {},
   "source": [
    "# Worksheet 14\n",
    "\n",
    "Name:  Timothy Evdokimov\n",
    "\n",
    "UID: U98635342\n",
    "\n",
    "### Topics\n",
    "\n",
    "- Naive Bayes\n",
    "- Model Evaluation\n",
    "\n",
    "### Naive Bayes\n",
    "\n",
    "| Attribute A | Attribute B | Attribute C | Class |\n",
    "|-------------|-------------|-------------|-------|\n",
    "| Yes         | Single      | High        | No    |\n",
    "| No          | Married     | Mid         | No    |\n",
    "| No          | Single      | Low         | No    |\n",
    "| Yes         | Married     | High        | No    |\n",
    "| No          | Divorced    | Mid         | Yes   |\n",
    "| No          | Married     | Low         | No    |\n",
    "| Yes         | Divorced    | High        | No    |\n",
    "| No          | Single      | Mid         | Yes   |\n",
    "| No          | Married     | Low         | No    |\n",
    "| No          | Single      | Mid         | Yes   |\n",
    "\n",
    "a) Compute the following probabilities:\n",
    "\n",
    "- P(Attribute A = Yes | Class = No)\n",
    "- P(Attribute B = Divorced | Class = Yes)\n",
    "- P(Attribute C = High | Class = No)\n",
    "- P(Attribute C = Mid | Class = Yes)"
   ]
  },
  {
   "attachments": {},
   "cell_type": "markdown",
   "metadata": {},
   "source": [
    "P(A | class = no) = 3/7\n",
    "\n",
    "P (B = Divorced | class = yes) = 1/3\n",
    "\n",
    "P (C = high | class = no) = 3/7\n",
    "\n",
    "P (C = mid | class = yes) = 1"
   ]
  },
  {
   "attachments": {},
   "cell_type": "markdown",
   "metadata": {},
   "source": [
    "b) Classify the following unseen records:\n",
    "\n",
    "- (Yes, Married, Mid)\n",
    "- (No, Divorced, High)\n",
    "- (No, Single, High)\n",
    "- (No, Divorced, Low)"
   ]
  },
  {
   "attachments": {},
   "cell_type": "markdown",
   "metadata": {},
   "source": [
    "P(c | Yes, Married, Mid) --> C = NO\n",
    "\n",
    "P(c | No, Divorced, High) --> C = NO\n",
    "\n",
    "P(c | No, Single, High) --> C = NO\n",
    "\n",
    "P(c | No, Divorced, Low) --> C = NO"
   ]
  },
  {
   "attachments": {},
   "cell_type": "markdown",
   "metadata": {},
   "source": [
    "### Model Evaluation\n",
    "\n",
    "a) Write a function to generate the confusion matrix for a list of actual classes and a list of predicted classes"
   ]
  },
  {
   "cell_type": "code",
   "execution_count": 11,
   "metadata": {},
   "outputs": [
    {
     "name": "stdout",
     "output_type": "stream",
     "text": [
      "[[0.2, 0.1], [0.3, 0.4]]\n"
     ]
    }
   ],
   "source": [
    "actual_class = [\"Yes\", \"No\", \"No\", \"Yes\", \"No\", \"No\", \"Yes\", \"No\", \"No\", \"No\"]\n",
    "predicted_class = [\"Yes\", \"No\", \"Yes\", \"No\", \"No\", \"No\", \"Yes\", \"Yes\", \"Yes\", \"No\"]\n",
    "\n",
    "def confusion_matrix(actual, predicted):\n",
    "    confusion_mat = [[0, 0],[0, 0]]\n",
    "    N = len(actual_class)\n",
    "\n",
    "    confusion_mat[0][0] = sum([1 if a == \"Yes\" and p == \"Yes\" else 0 for a, p in zip(actual, predicted)])/N\n",
    "    confusion_mat[0][1] = sum([1 if a == \"Yes\" and p == \"No\" else 0 for a, p in zip(actual, predicted)])/N\n",
    "    confusion_mat[1][0] = sum([1 if a == \"No\" and p == \"Yes\" else 0 for a, p in zip(actual, predicted)])/N\n",
    "    confusion_mat[1][1] = sum([1 if a == \"No\" and p == \"No\" else 0 for a, p in zip(actual, predicted)])/N\n",
    "\n",
    "    return confusion_mat\n",
    "\n",
    "print(confusion_matrix(actual_class, predicted_class))\n",
    "confusion_mat = confusion_matrix(actual_class, predicted_class)"
   ]
  },
  {
   "attachments": {},
   "cell_type": "markdown",
   "metadata": {},
   "source": [
    "b) Assume you have the following Cost Matrix:\n",
    "\n",
    "|            | predicted = Y | predicted = N |\n",
    "|------------|---------------|---------------|\n",
    "| actual = Y |       -1      |       5       |\n",
    "| actual = N |        10     |       0       |\n",
    "\n",
    "What is the cost of the above classification?"
   ]
  },
  {
   "attachments": {},
   "cell_type": "markdown",
   "metadata": {},
   "source": [
    "3.3"
   ]
  },
  {
   "attachments": {},
   "cell_type": "markdown",
   "metadata": {},
   "source": [
    "c) Write a function that takes in the actual values, the predictions, and a cost matrix and outputs a cost. Test it on the above example."
   ]
  },
  {
   "cell_type": "code",
   "execution_count": 12,
   "metadata": {},
   "outputs": [
    {
     "data": {
      "text/plain": [
       "3.3"
      ]
     },
     "execution_count": 12,
     "metadata": {},
     "output_type": "execute_result"
    }
   ],
   "source": [
    "import numpy as np\n",
    "\n",
    "def cost(confusion_mat, cost_mat):\n",
    "    flat_conf = np.array(confusion_mat).flatten()\n",
    "    flat_cost = np.array(cost_mat).flatten()\n",
    "\n",
    "    sum_cost = 0\n",
    "    for conf, cost in zip(flat_conf, flat_cost):\n",
    "        sum_cost += conf * cost\n",
    "\n",
    "    return sum_cost\n",
    "\n",
    "cost_mat = [[-1, 5], [10, 0]]\n",
    "cost(confusion_mat, cost_mat)"
   ]
  },
  {
   "attachments": {},
   "cell_type": "markdown",
   "metadata": {},
   "source": [
    "d) Implement functions for the following:\n",
    "\n",
    "- accuracy\n",
    "- precision\n",
    "- recall\n",
    "- f-measure\n",
    "\n",
    "and apply them to the above example."
   ]
  },
  {
   "cell_type": "code",
   "execution_count": 16,
   "metadata": {},
   "outputs": [
    {
     "name": "stdout",
     "output_type": "stream",
     "text": [
      "Accuracy 0.6\n",
      "Precision 0.4\n",
      "Recall 0.6666666666666666\n",
      "F-Measure 0.5\n"
     ]
    }
   ],
   "source": [
    "def accuracy(actual, predicted):\n",
    "    correct = sum([1 if a == p else 0 for a, p in zip(actual, predicted)])\n",
    "    return correct/len(actual)\n",
    "\n",
    "def precision(actual, predicted):\n",
    "    c = confusion_matrix(actual, predicted)\n",
    "    return c[0][0] / (c[0][0] + c[1][0])\n",
    "\n",
    "def recall(actual, predicted):\n",
    "    c = confusion_matrix(actual, predicted)\n",
    "    return c[0][0] / (c[0][0] + c[0][1])\n",
    "\n",
    "def fmeasure(actual, predicted):\n",
    "    P = precision(actual, predicted)\n",
    "    R = recall(actual, predicted)\n",
    "    return (2 * R * P) / (R + P)\n",
    "\n",
    "    \n",
    "print(\"Accuracy\", accuracy(actual_class, predicted_class))\n",
    "print(\"Precision\", precision(actual_class, predicted_class))\n",
    "print(\"Recall\", recall(actual_class, predicted_class))\n",
    "print(\"F-Measure\", fmeasure(actual_class, predicted_class))\n",
    "\n",
    "    "
   ]
  }
 ],
 "metadata": {
  "kernelspec": {
   "display_name": "Python 3",
   "language": "python",
   "name": "python3"
  },
  "language_info": {
   "codemirror_mode": {
    "name": "ipython",
    "version": 3
   },
   "file_extension": ".py",
   "mimetype": "text/x-python",
   "name": "python",
   "nbconvert_exporter": "python",
   "pygments_lexer": "ipython3",
   "version": "3.10.6"
  },
  "orig_nbformat": 4,
  "vscode": {
   "interpreter": {
    "hash": "e7370f93d1d0cde622a1f8e1c04877d8463912d04d973331ad4851f04de6915a"
   }
  }
 },
 "nbformat": 4,
 "nbformat_minor": 2
}
